{
 "cells": [
  {
   "cell_type": "code",
   "execution_count": 8,
   "id": "cd621fcc",
   "metadata": {},
   "outputs": [
    {
     "name": "stdout",
     "output_type": "stream",
     "text": [
      "Requirement already satisfied: praw in ./.venv/lib/python3.13/site-packages (7.8.1)\n",
      "Requirement already satisfied: prawcore<3,>=2.4 in ./.venv/lib/python3.13/site-packages (from praw) (2.4.0)\n",
      "Requirement already satisfied: update_checker>=0.18 in ./.venv/lib/python3.13/site-packages (from praw) (0.18.0)\n",
      "Requirement already satisfied: websocket-client>=0.54.0 in ./.venv/lib/python3.13/site-packages (from praw) (1.8.0)\n",
      "Requirement already satisfied: requests<3.0,>=2.6.0 in ./.venv/lib/python3.13/site-packages (from prawcore<3,>=2.4->praw) (2.32.4)\n",
      "Requirement already satisfied: charset_normalizer<4,>=2 in ./.venv/lib/python3.13/site-packages (from requests<3.0,>=2.6.0->prawcore<3,>=2.4->praw) (3.4.2)\n",
      "Requirement already satisfied: idna<4,>=2.5 in ./.venv/lib/python3.13/site-packages (from requests<3.0,>=2.6.0->prawcore<3,>=2.4->praw) (3.10)\n",
      "Requirement already satisfied: urllib3<3,>=1.21.1 in ./.venv/lib/python3.13/site-packages (from requests<3.0,>=2.6.0->prawcore<3,>=2.4->praw) (2.4.0)\n",
      "Requirement already satisfied: certifi>=2017.4.17 in ./.venv/lib/python3.13/site-packages (from requests<3.0,>=2.6.0->prawcore<3,>=2.4->praw) (2025.4.26)\n",
      "Collecting pandas\n",
      "  Downloading pandas-2.3.0-cp313-cp313-macosx_10_13_x86_64.whl.metadata (91 kB)\n",
      "Collecting numpy>=1.26.0 (from pandas)\n",
      "  Downloading numpy-2.3.0-cp313-cp313-macosx_14_0_x86_64.whl.metadata (62 kB)\n",
      "Requirement already satisfied: python-dateutil>=2.8.2 in ./.venv/lib/python3.13/site-packages (from pandas) (2.9.0.post0)\n",
      "Collecting pytz>=2020.1 (from pandas)\n",
      "  Using cached pytz-2025.2-py2.py3-none-any.whl.metadata (22 kB)\n",
      "Collecting tzdata>=2022.7 (from pandas)\n",
      "  Using cached tzdata-2025.2-py2.py3-none-any.whl.metadata (1.4 kB)\n",
      "Requirement already satisfied: six>=1.5 in ./.venv/lib/python3.13/site-packages (from python-dateutil>=2.8.2->pandas) (1.17.0)\n",
      "Downloading pandas-2.3.0-cp313-cp313-macosx_10_13_x86_64.whl (11.5 MB)\n",
      "\u001b[2K   \u001b[90m━━━━━━━━━━━━━━━━━━━━━━━━━━━━━━━━━━━━━━━━\u001b[0m \u001b[32m11.5/11.5 MB\u001b[0m \u001b[31m55.4 kB/s\u001b[0m eta \u001b[36m0:00:00\u001b[0m00:05\u001b[0m00:09\u001b[0m\n",
      "\u001b[?25hDownloading numpy-2.3.0-cp313-cp313-macosx_14_0_x86_64.whl (6.6 MB)\n",
      "\u001b[2K   \u001b[90m━━━━━━━━━━━━━━━━━━━━━━━━━━━━━━━━━━━━━━━━\u001b[0m \u001b[32m6.6/6.6 MB\u001b[0m \u001b[31m46.8 kB/s\u001b[0m eta \u001b[36m0:00:00\u001b[0m00:02\u001b[0m00:07\u001b[0m\n",
      "\u001b[?25hUsing cached pytz-2025.2-py2.py3-none-any.whl (509 kB)\n",
      "Using cached tzdata-2025.2-py2.py3-none-any.whl (347 kB)\n",
      "Installing collected packages: pytz, tzdata, numpy, pandas\n",
      "\u001b[2K   \u001b[90m━━━━━━━━━━━━━━━━━━━━━━━━━━━━━━━━━━━━━━━━\u001b[0m \u001b[32m4/4\u001b[0m [pandas]2m3/4\u001b[0m [pandas]\n",
      "\u001b[1A\u001b[2KSuccessfully installed numpy-2.3.0 pandas-2.3.0 pytz-2025.2 tzdata-2025.2\n"
     ]
    }
   ],
   "source": [
    "!pip install praw\n",
    "!pip install pandas"
   ]
  },
  {
   "cell_type": "code",
   "execution_count": 36,
   "id": "13c8b83b",
   "metadata": {},
   "outputs": [],
   "source": [
    "import praw\n",
    "import pandas as pd\n",
    "import datetime\n",
    "import time"
   ]
  },
  {
   "cell_type": "code",
   "execution_count": 5,
   "id": "01a2abc8",
   "metadata": {},
   "outputs": [],
   "source": [
    "reddit = praw.Reddit(user_agent=True,\n",
    "                     client_id=\"qxWM9jmK8cAIshLz8FIXpw\",\n",
    "                     client_secret=\"0qzOxNNEYGFUo_9oQEZDN42z3x_JEA\",\n",
    "                     username=\"pythonprojectmickey\",\n",
    "                     password=\"Nvk#pHLdsTS2Q74\")"
   ]
  },
  {
   "cell_type": "code",
   "execution_count": 31,
   "id": "143869c0",
   "metadata": {},
   "outputs": [
    {
     "name": "stdout",
     "output_type": "stream",
     "text": [
      "91\n"
     ]
    }
   ],
   "source": [
    "url = \"https://www.reddit.com/r/apple/comments/1l7ewbh/wwdc_2025_postevent_megathread/\"\n",
    "\n",
    "post = reddit.submission(url=url)\n",
    "# print(post.selftext)\n",
    "comments = []\n",
    "for comment in post.comments: \n",
    "    comments.append(comment.body)\n",
    "\n",
    "print(len(comments))"
   ]
  },
  {
   "cell_type": "code",
   "execution_count": 32,
   "id": "3b1faefa",
   "metadata": {},
   "outputs": [
    {
     "name": "stdout",
     "output_type": "stream",
     "text": [
      "[]\n"
     ]
    }
   ],
   "source": [
    "# Define the subreddit\n",
    "subreddit = reddit.subreddit(\"Siri\")\n",
    "\n",
    "# User Config\n",
    "KEYWORDS = ['Intelligence', 'WWDC'] #keywords to search in title or body\n",
    "POST_LIMIT = 100 #max num of posts to scan\n",
    "TIME_FILTER = 'year'\n",
    "\n",
    "# Extract\n",
    "siri_posts = []\n",
    "\n",
    "for post in subreddit.top(limit=POST_LIMIT, time_filter=TIME_FILTER): \n",
    "  title_lower = post.title.lower()\n",
    "  selftext_lower = post.selftext.lower() if post.selftext else ''\n",
    "\n",
    "  if any(keyword in title_lower or keyword in selftext_lower for keyword in KEYWORDS): \n",
    "    post.comments.replace_more(limit=0)\n",
    "    top_comments = [comment.body for comment in post.comments[:5]]\n",
    "\n",
    "    siri_posts.append({\n",
    "        'Title': post.title,\n",
    "        'Score': post.score,\n",
    "        'URL': post.url,\n",
    "        'Comments Count': post.num_comments,\n",
    "        'Top Comments': top_comments\n",
    "    })\n",
    "\n",
    "print(siri_posts)"
   ]
  },
  {
   "cell_type": "code",
   "execution_count": null,
   "id": "86d1e4a6",
   "metadata": {},
   "outputs": [],
   "source": [
    "subreddit = reddit.subreddit(\"Siri\")"
   ]
  },
  {
   "cell_type": "code",
   "execution_count": 37,
   "id": "cefad724",
   "metadata": {},
   "outputs": [
    {
     "data": {
      "text/plain": [
       "datetime.datetime(2025, 6, 16, 23, 15, 18, 957203)"
      ]
     },
     "execution_count": 37,
     "metadata": {},
     "output_type": "execute_result"
    }
   ],
   "source": [
    "datetime.datetime.now()"
   ]
  },
  {
   "cell_type": "code",
   "execution_count": null,
   "id": "3c423cfa",
   "metadata": {},
   "outputs": [
    {
     "name": "stdout",
     "output_type": "stream",
     "text": [
      "An error occurred: error with request HTTPSConnectionPool(host='oauth.reddit.com', port=443): Max retries exceeded with url: /r/Siri/new?after=t3_1l7bvav&limit=100&raw_json=1 (Caused by NameResolutionError(\"<urllib3.connection.HTTPSConnection object at 0x117ba0a50>: Failed to resolve 'oauth.reddit.com' ([Errno 8] nodename nor servname provided, or not known)\"))\n",
      "Scraped 17 posts.\n"
     ]
    }
   ],
   "source": [
    "subreddit_name = \"Siri\"\n",
    "start_date = datetime.datetime(2025, 6, 10, 1, 0, 0) #the time WWDC2025 started in HKT\n",
    "\n",
    "start_timestamp = int(start_date.timestamp())\n",
    "current_timestamp = int(datetime.datetime.now().timestamp())\n",
    "\n",
    "subreddit = reddit.subreddit(subreddit_name)\n",
    "posts = []\n",
    "after = None\n",
    "\n",
    "while True:\n",
    "    try:\n",
    "        if after:\n",
    "            results = subreddit.new(limit=20, params={'after': after})\n",
    "        else:\n",
    "            results = subreddit.new(limit=20)\n",
    "\n",
    "        for submission in results:\n",
    "            if submission.created_utc < start_timestamp:\n",
    "                break  # Stop if we've passed the start date\n",
    "\n",
    "            if submission.created_utc <= current_timestamp:\n",
    "                posts.append({\n",
    "                    'title': submission.title,\n",
    "                    'selftext': submission.selftext,\n",
    "                    'author': str(submission.author),\n",
    "                    'score': submission.score,\n",
    "                    'created_utc': submission.created_utc,\n",
    "                    # ... other data\n",
    "                })\n",
    "                after = f\"t3_{submission.id}\" # Get the ID of the current post\n",
    "            else:\n",
    "                after = None\n",
    "                break #Stop if we've passed the end date\n",
    "        \n",
    "        if not after:\n",
    "            break #Exit the loop if there are no more posts to fetch\n",
    "\n",
    "        time.sleep(2) #Be nice to the API\n",
    "    except Exception as e:\n",
    "        print(f\"An error occurred: {e}\")\n",
    "        break\n",
    "\n",
    "print(f\"Scraped {len(posts)} posts.\")"
   ]
  },
  {
   "cell_type": "code",
   "execution_count": 40,
   "id": "1bded623",
   "metadata": {},
   "outputs": [
    {
     "data": {
      "text/html": [
       "<div>\n",
       "<style scoped>\n",
       "    .dataframe tbody tr th:only-of-type {\n",
       "        vertical-align: middle;\n",
       "    }\n",
       "\n",
       "    .dataframe tbody tr th {\n",
       "        vertical-align: top;\n",
       "    }\n",
       "\n",
       "    .dataframe thead th {\n",
       "        text-align: right;\n",
       "    }\n",
       "</style>\n",
       "<table border=\"1\" class=\"dataframe\">\n",
       "  <thead>\n",
       "    <tr style=\"text-align: right;\">\n",
       "      <th></th>\n",
       "      <th>title</th>\n",
       "      <th>selftext</th>\n",
       "      <th>author</th>\n",
       "      <th>score</th>\n",
       "      <th>created_utc</th>\n",
       "    </tr>\n",
       "  </thead>\n",
       "  <tbody>\n",
       "    <tr>\n",
       "      <th>0</th>\n",
       "      <td>“Message from someone”</td>\n",
       "      <td>Hello, someone might be my saviour today, I lo...</td>\n",
       "      <td>Benmichael1989</td>\n",
       "      <td>2</td>\n",
       "      <td>1.750067e+09</td>\n",
       "    </tr>\n",
       "    <tr>\n",
       "      <th>1</th>\n",
       "      <td>2025, Siri still cannot understand basic. Give...</td>\n",
       "      <td>Asks for iPad’s battery, replies with iPhone’s...</td>\n",
       "      <td>Exact_Confusion_5744</td>\n",
       "      <td>0</td>\n",
       "      <td>1.750067e+09</td>\n",
       "    </tr>\n",
       "    <tr>\n",
       "      <th>2</th>\n",
       "      <td>I can’t with this anymore 😂</td>\n",
       "      <td></td>\n",
       "      <td>UrMom306</td>\n",
       "      <td>6</td>\n",
       "      <td>1.750002e+09</td>\n",
       "    </tr>\n",
       "    <tr>\n",
       "      <th>3</th>\n",
       "      <td>Stupidest Siri response of all time</td>\n",
       "      <td>Back when I had my first iPhone, the 4S, I ask...</td>\n",
       "      <td>stevenjklein</td>\n",
       "      <td>11</td>\n",
       "      <td>1.750001e+09</td>\n",
       "    </tr>\n",
       "    <tr>\n",
       "      <th>4</th>\n",
       "      <td>I asked Siri my address, now I can’t sleep. Wh...</td>\n",
       "      <td>Around 1:30 in the morning here. I am a teenag...</td>\n",
       "      <td>Present_Deal_1751</td>\n",
       "      <td>0</td>\n",
       "      <td>1.749969e+09</td>\n",
       "    </tr>\n",
       "  </tbody>\n",
       "</table>\n",
       "</div>"
      ],
      "text/plain": [
       "                                               title  \\\n",
       "0                             “Message from someone”   \n",
       "1  2025, Siri still cannot understand basic. Give...   \n",
       "2                        I can’t with this anymore 😂   \n",
       "3                Stupidest Siri response of all time   \n",
       "4  I asked Siri my address, now I can’t sleep. Wh...   \n",
       "\n",
       "                                            selftext                author  \\\n",
       "0  Hello, someone might be my saviour today, I lo...        Benmichael1989   \n",
       "1  Asks for iPad’s battery, replies with iPhone’s...  Exact_Confusion_5744   \n",
       "2                                                                 UrMom306   \n",
       "3  Back when I had my first iPhone, the 4S, I ask...          stevenjklein   \n",
       "4  Around 1:30 in the morning here. I am a teenag...     Present_Deal_1751   \n",
       "\n",
       "   score   created_utc  \n",
       "0      2  1.750067e+09  \n",
       "1      0  1.750067e+09  \n",
       "2      6  1.750002e+09  \n",
       "3     11  1.750001e+09  \n",
       "4      0  1.749969e+09  "
      ]
     },
     "execution_count": 40,
     "metadata": {},
     "output_type": "execute_result"
    }
   ],
   "source": [
    "# Forming a Data Frame \n",
    "df = pd.DataFrame(posts)\n",
    "df.head() "
   ]
  },
  {
   "cell_type": "code",
   "execution_count": null,
   "id": "55cb7daa",
   "metadata": {},
   "outputs": [],
   "source": [
    "# Saving data into a CSV file\n",
    "df.to_csv('siri_reddit_reviews.csv', index=False)"
   ]
  },
  {
   "cell_type": "code",
   "execution_count": null,
   "id": "eace85ea",
   "metadata": {},
   "outputs": [
    {
     "name": "stdout",
     "output_type": "stream",
     "text": [
      "“Message from someone”\n",
      "https://www.reddit.com/r/Siri/comments/1lcol2z/message_from_someone/\n",
      "2025, Siri still cannot understand basic. Gives me unreliable response. #ecosystemfails\n",
      "https://i.redd.it/wu69w9mxe97f1.jpeg\n",
      "I can’t with this anymore 😂\n",
      "https://i.redd.it/56k65468147f1.jpeg\n",
      "Stupidest Siri response of all time\n",
      "https://www.reddit.com/r/Siri/comments/1lc2uln/stupidest_siri_response_of_all_time/\n",
      "I asked Siri my address, now I can’t sleep. What odd responses has Siri ever given you?\n",
      "https://www.reddit.com/r/Siri/comments/1lbtmpb/i_asked_siri_my_address_now_i_cant_sleep_what_odd/\n",
      "Bitch, please!!\n",
      "https://i.redd.it/3z73xju79s6f1.jpeg\n",
      "As a new iPhone user, please help me understand a few things about Siri’s capabilities\n",
      "https://www.reddit.com/r/Siri/comments/1l9xtip/as_a_new_iphone_user_please_help_me_understand_a/\n",
      "Creating a Conversational AI like Samantha from the movie Her and Jarvis from Iron Man. How can something like this help you in your daily lives?\n",
      "https://www.reddit.com/r/Siri/comments/1l9t1bh/creating_a_conversational_ai_like_samantha_from/\n",
      "2010 vs 2025\n",
      "https://www.reddit.com/r/Siri/comments/1l9lvyf/2010_vs_2025/\n",
      "🤣💀\n",
      "https://i.redd.it/6n7jfui15d6f1.jpeg\n"
     ]
    }
   ],
   "source": [
    "for submission in subreddit.new(limit=10):\n",
    "    print(submission.title)\n",
    "    print(submission.url)"
   ]
  },
  {
   "cell_type": "code",
   "execution_count": 34,
   "id": "3e66d724",
   "metadata": {},
   "outputs": [
    {
     "name": "stdout",
     "output_type": "stream",
     "text": [
      "[“Siri and Apple's use of AI has been severely held back by caution and organizational dysfunction, according to over three dozen former Apple employees who spoke to The Information's Wayne Ma.”](https://www.macrumors.com/2023/04/27/report-details-turmoil-behind-siri-and-apple-ai/)\n",
      "And what is the most hilarious is that she’s getting even worse\n",
      "You can train it, along with accessibility to make it do much. It can open programs at least\n",
      "I’m embedded in the ecosystem and I wish it was better. I feel the opposite about Siri than I do about their product suite.\n",
      "I don't know what you mean by \"How is Siri so useless in 2023\". How about a web search for it?  \n",
      "\n",
      "\n",
      "\\[Search the web\\]\n",
      "It's been a decade and it can only speak 21 languages. Like, come on. Apple doesn't seem to care about half of the European countries despite the fact that many people around here have iPhones.\n",
      "Siri is the Stacy Malibu of virtual assistants\n",
      "Exactly one week ago, Siri celebrated her 12th birthday, which I had to cook up and Shocked me because it's never gotten any better! I only use it for Setting times, dimming the lights or asking the Time when my phone is out of reach.\n",
      "I remember how cool and exciting it was when the feature became available. We could spend hours trying to ask the dumbest weirdest questions and repeatedly go through the easter eggs. \n",
      "\n",
      "To be honest it seems the Team at Apple previously responsible for Siri thought their project was all done and finished. In reality, this polished turd of an assistant only got worse over the years. \n",
      "\n",
      "If you ask her anything outside of the very limited (Likely hardcoded, imo) sets of keywords, the response will be: \"Here's what I found on the web about [your whole question: ...\"\n",
      "BUT SHE DOESN'T EVEN TELL YOU WHAT SHE FOUND?\n",
      "\n",
      "it needs to be on par with chut gpt, no excuses Apple!!\n",
      "Siri is largely a useless tool. Even rudimentary requests some times it can not do. “Here’s what I found on the web” is not the hallmark of an intelligent assistant. Apple seems content with how dumb siri is.\n",
      "Somehow Siri manages to get worse year over year. Much like the OS across the product line. This past year the UX across all products is more frustrating than useful. It feels like they were incepted by people than never use the products and / or have completely lost touch with its core user base. Personally, as products age out I am shedding myself of the Apple ecosystem entirely. It takes a lot to entirely disenfranchise a user that had been in the ecosystem for 30+ years. And the one brand I least suspected to arrive at this endpoint turned me from a brand advocate into a brand adversary.\n",
      "I have certain shorcuts connected to siri, and she gets them wrong so very often. Only god knows who Siri can interpret \"Siri, Daylight\" or \"Siri, Bedtime\" as \"Siri, call my dentist at 23:00 on a Sunday\"\n",
      "Every update seems to get worse\n",
      "The voice dictation is barely usable. It’s like 50-50 if it’s going to be accurate. For English it doesn’t seem to have any contextual algorithms built in.\n",
      "Its feels tremendously outdated. Were now surrounded by extremely advanced AI that i never thought id witness, yet Siri still feels like AI from 2010. Its speech recognition is still awful. Besides it having a hard time understanding you, you’re also still limited to very specific set questions. Also after calling for Siri, the delay before she listens to you is a little too long and it drives me crazy.\n",
      "Siri is a waste of time. I could f have entered in the question or do the request, in a time quicker, then asking her to do it. Pathetic.\n",
      "It’s way irritating that any time I ask Siri something out loud, if she understands at all what I am asking, she gives me a page to look at, but she won’t read to me what it says. As a person with eyesight trouble, this is very irritating.\n",
      "I agree with so much on this thread, but Siri is not a she. Or a he. It is shit.\n",
      "Also it won’t tell you anything unless your phone is unlocked which is frustrating because it used to. Like when I’m getting ready and I ask what the weather is today “you’ll need to unlock your iPhone first” girl it’s the weather not my info??\n",
      "It's 2025, and Siri is still a piece of useless dog waste.\n",
      "I’m going into my safe room, connecting my rotary phone to a landline and stocking the pantry with SPAM and Vienna sausage. And once again, another small sentence that I had to correct the dictation in four places. I am so done feeding Apple.\n",
      "\n",
      "And the next time that I say “hey Siri” and I get interrupted with “mm-hmm?” and have to start over again or wait until Siri shuts up. When you need Siri to respond, you get “I don’t think I understand“ or “here’s what I found.”\n",
      "\n",
      "It’s farce.\n",
      "\n",
      "SMH.\n",
      "i feel like google has a quantum computer capable of moving stars and Siri can’t access anything other than frustration i literally i’ve had the same phone for three years and the same plan for I don’t know eight years. I feel like it should know me a little bit being that it is AI and I also believe she should be able to repeat things that I’m saying or asking or even use my screen as a mouse and I’m telling the mouse where to move.\n",
      "Hip\n",
      "I’m asking myself the same question now and it’s 2025 🤷🏽‍♂️\n",
      "My Siri doesn’t even do this anymore 🤦‍♀️ I’m not sure what happened but it’s better if I just do everything myself. SO USELESS IN 2025\n",
      "Now it's 2025, and Siri cannot airplay playing song to other devices. Absolute software development 🤯\n",
      "It’s pretty amusing that you joined the Siri subreddit to post this comment.  Thanks for super helpful content!\n",
      "Agree but it is a bloody good speaker...\n",
      "#Shortsqueeze #SIRI\n",
      "Seriously, I was asking you f it snowed in a certain place and it kept just saying…I don’t know how to respond. Google has the win on this one\n",
      "Siri is the biggest shame for Apple. With all the resources a company like Apple have, it’s even incapable of running the shortcuts, which is a native app. Siri is a joke, it’s not a smart assistant. Light year behind its competitors. I believe it’s for the best Apple to kill it (as apparently they aren’t capable of making it work) so that we can just go ahead and use google assistant on Apple devices without churn to actually get things done.\n",
      "Last week I got this great idea of asking Siri to remember where my car was parked. She replied: “Okay, I’ll remember where your car is parked here at…”. The following morning I asked her: Siri, take me to my car”.  She came up with my old address 40 miles away. I kept asking “you promised me yesterday day you’ll remember where my car”. “Sorry, I can’t help you with that”.\n",
      "\n",
      "At this moment I realised how Siri is left behind the accelerating development of AI. Apple, Apple, what planet are you on?\n"
     ]
    }
   ],
   "source": [
    "for submission in subreddit.top(limit=1):\n",
    "    for comment in submission.comments:\n",
    "        print(comment.body)"
   ]
  },
  {
   "cell_type": "code",
   "execution_count": 35,
   "id": "53209940",
   "metadata": {},
   "outputs": [
    {
     "name": "stdout",
     "output_type": "stream",
     "text": [
      "[“Siri and Apple's use of AI has been severely held back by caution and organizational dysfunction, according to over three dozen former Apple employees who spoke to The Information's Wayne Ma.”](https://www.macrumors.com/2023/04/27/report-details-turmoil-behind-siri-and-apple-ai/)\n",
      "  > Great article, answered all my questions and more. Thank you!!\n",
      "  > It’s like it’s run by Disney woke + and Wokeflix .  Afraid to respond to the wrong thing or say the wrong thing\n",
      "And what is the most hilarious is that she’s getting even worse\n",
      "  > ? \n",
      "\n",
      "Is she getting worse or is competitive ***actual*** ai getting better? \n",
      "\n",
      "I don’t think she’s gotten worse. I think she hasn’t been improved since 2010\n",
      "You can train it, along with accessibility to make it do much. It can open programs at least\n",
      "I’m embedded in the ecosystem and I wish it was better. I feel the opposite about Siri than I do about their product suite.\n",
      "I don't know what you mean by \"How is Siri so useless in 2023\". How about a web search for it?  \n",
      "\n",
      "\n",
      "\\[Search the web\\]\n",
      "  > Mine can’t even search the Web anymore, or access any data with any app, or answer any question about pretty much anything at all, even even basic math it cannot do. Mind blowingly shitty technology. In fact, it can’t even transcribe simple words correctly from a verbal prompt .\n",
      "\n",
      "Siri what time is it?\n",
      "\n",
      "Sorry, I do not understand “See rewind dime is set”.\n",
      "It's been a decade and it can only speak 21 languages. Like, come on. Apple doesn't seem to care about half of the European countries despite the fact that many people around here have iPhones.\n",
      "Siri is the Stacy Malibu of virtual assistants\n",
      "Exactly one week ago, Siri celebrated her 12th birthday, which I had to cook up and Shocked me because it's never gotten any better! I only use it for Setting times, dimming the lights or asking the Time when my phone is out of reach.\n",
      "I remember how cool and exciting it was when the feature became available. We could spend hours trying to ask the dumbest weirdest questions and repeatedly go through the easter eggs. \n",
      "\n",
      "To be honest it seems the Team at Apple previously responsible for Siri thought their project was all done and finished. In reality, this polished turd of an assistant only got worse over the years. \n",
      "\n",
      "If you ask her anything outside of the very limited (Likely hardcoded, imo) sets of keywords, the response will be: \"Here's what I found on the web about [your whole question: ...\"\n",
      "BUT SHE DOESN'T EVEN TELL YOU WHAT SHE FOUND?\n",
      "\n",
      "it needs to be on par with chut gpt, no excuses Apple!!\n",
      "Siri is largely a useless tool. Even rudimentary requests some times it can not do. “Here’s what I found on the web” is not the hallmark of an intelligent assistant. Apple seems content with how dumb siri is.\n",
      "Somehow Siri manages to get worse year over year. Much like the OS across the product line. This past year the UX across all products is more frustrating than useful. It feels like they were incepted by people than never use the products and / or have completely lost touch with its core user base. Personally, as products age out I am shedding myself of the Apple ecosystem entirely. It takes a lot to entirely disenfranchise a user that had been in the ecosystem for 30+ years. And the one brand I least suspected to arrive at this endpoint turned me from a brand advocate into a brand adversary.\n",
      "I have certain shorcuts connected to siri, and she gets them wrong so very often. Only god knows who Siri can interpret \"Siri, Daylight\" or \"Siri, Bedtime\" as \"Siri, call my dentist at 23:00 on a Sunday\"\n",
      "Every update seems to get worse\n",
      "The voice dictation is barely usable. It’s like 50-50 if it’s going to be accurate. For English it doesn’t seem to have any contextual algorithms built in.\n",
      "  > Oddly enough for me, the voice, dictation works very well, and even makes punctuation marks for me. This post reply was written with the dictation. the only error, I see is an unnecessary comma\n",
      "Its feels tremendously outdated. Were now surrounded by extremely advanced AI that i never thought id witness, yet Siri still feels like AI from 2010. Its speech recognition is still awful. Besides it having a hard time understanding you, you’re also still limited to very specific set questions. Also after calling for Siri, the delay before she listens to you is a little too long and it drives me crazy.\n",
      "Siri is a waste of time. I could f have entered in the question or do the request, in a time quicker, then asking her to do it. Pathetic.\n",
      "It’s way irritating that any time I ask Siri something out loud, if she understands at all what I am asking, she gives me a page to look at, but she won’t read to me what it says. As a person with eyesight trouble, this is very irritating.\n",
      "I agree with so much on this thread, but Siri is not a she. Or a he. It is shit.\n",
      "  > Gender is a social construct. If it expresses feminine characteristics, it is a she.\n",
      "Not biologically of course.\n",
      "Also it won’t tell you anything unless your phone is unlocked which is frustrating because it used to. Like when I’m getting ready and I ask what the weather is today “you’ll need to unlock your iPhone first” girl it’s the weather not my info??\n",
      "It's 2025, and Siri is still a piece of useless dog waste.\n",
      "I’m going into my safe room, connecting my rotary phone to a landline and stocking the pantry with SPAM and Vienna sausage. And once again, another small sentence that I had to correct the dictation in four places. I am so done feeding Apple.\n",
      "\n",
      "And the next time that I say “hey Siri” and I get interrupted with “mm-hmm?” and have to start over again or wait until Siri shuts up. When you need Siri to respond, you get “I don’t think I understand“ or “here’s what I found.”\n",
      "\n",
      "It’s farce.\n",
      "\n",
      "SMH.\n",
      "i feel like google has a quantum computer capable of moving stars and Siri can’t access anything other than frustration i literally i’ve had the same phone for three years and the same plan for I don’t know eight years. I feel like it should know me a little bit being that it is AI and I also believe she should be able to repeat things that I’m saying or asking or even use my screen as a mouse and I’m telling the mouse where to move.\n",
      "Hip\n",
      "I’m asking myself the same question now and it’s 2025 🤷🏽‍♂️\n",
      "My Siri doesn’t even do this anymore 🤦‍♀️ I’m not sure what happened but it’s better if I just do everything myself. SO USELESS IN 2025\n",
      "Now it's 2025, and Siri cannot airplay playing song to other devices. Absolute software development 🤯\n",
      "It’s pretty amusing that you joined the Siri subreddit to post this comment.  Thanks for super helpful content!\n",
      "  > Didn’t even join the subreddit lmao impulse post\n",
      "  > Siri simp detected\n",
      "  > Wtf do you actually want. For people on this sub to simp over siri? Thats fkn sad. Its a piece of shit AI\n",
      "Agree but it is a bloody good speaker...\n",
      "#Shortsqueeze #SIRI\n",
      "Seriously, I was asking you f it snowed in a certain place and it kept just saying…I don’t know how to respond. Google has the win on this one\n",
      "Siri is the biggest shame for Apple. With all the resources a company like Apple have, it’s even incapable of running the shortcuts, which is a native app. Siri is a joke, it’s not a smart assistant. Light year behind its competitors. I believe it’s for the best Apple to kill it (as apparently they aren’t capable of making it work) so that we can just go ahead and use google assistant on Apple devices without churn to actually get things done.\n",
      "Last week I got this great idea of asking Siri to remember where my car was parked. She replied: “Okay, I’ll remember where your car is parked here at…”. The following morning I asked her: Siri, take me to my car”.  She came up with my old address 40 miles away. I kept asking “you promised me yesterday day you’ll remember where my car”. “Sorry, I can’t help you with that”.\n",
      "\n",
      "At this moment I realised how Siri is left behind the accelerating development of AI. Apple, Apple, what planet are you on?\n"
     ]
    }
   ],
   "source": [
    "for submission in subreddit.top(limit=1):\n",
    "    for comment in submission.comments:\n",
    "        print(comment.body)\n",
    "        for reply in comment.replies:\n",
    "            print(f\"  > {reply.body}\")"
   ]
  },
  {
   "cell_type": "code",
   "execution_count": 22,
   "id": "6ac79f44",
   "metadata": {},
   "outputs": [],
   "source": [
    "df = pd.DataFrame(siri_posts)"
   ]
  },
  {
   "cell_type": "code",
   "execution_count": 23,
   "id": "d66247f3",
   "metadata": {},
   "outputs": [
    {
     "data": {
      "text/html": [
       "<div>\n",
       "<style scoped>\n",
       "    .dataframe tbody tr th:only-of-type {\n",
       "        vertical-align: middle;\n",
       "    }\n",
       "\n",
       "    .dataframe tbody tr th {\n",
       "        vertical-align: top;\n",
       "    }\n",
       "\n",
       "    .dataframe thead th {\n",
       "        text-align: right;\n",
       "    }\n",
       "</style>\n",
       "<table border=\"1\" class=\"dataframe\">\n",
       "  <thead>\n",
       "    <tr style=\"text-align: right;\">\n",
       "      <th></th>\n",
       "    </tr>\n",
       "  </thead>\n",
       "  <tbody>\n",
       "  </tbody>\n",
       "</table>\n",
       "</div>"
      ],
      "text/plain": [
       "Empty DataFrame\n",
       "Columns: []\n",
       "Index: []"
      ]
     },
     "execution_count": 23,
     "metadata": {},
     "output_type": "execute_result"
    }
   ],
   "source": [
    "df"
   ]
  }
 ],
 "metadata": {
  "kernelspec": {
   "display_name": ".venv",
   "language": "python",
   "name": "python3"
  },
  "language_info": {
   "codemirror_mode": {
    "name": "ipython",
    "version": 3
   },
   "file_extension": ".py",
   "mimetype": "text/x-python",
   "name": "python",
   "nbconvert_exporter": "python",
   "pygments_lexer": "ipython3",
   "version": "3.13.0"
  }
 },
 "nbformat": 4,
 "nbformat_minor": 5
}
